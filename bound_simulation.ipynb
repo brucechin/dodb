{
 "cells": [
  {
   "cell_type": "code",
   "execution_count": 2,
   "metadata": {},
   "outputs": [],
   "source": [
    "import matplotlib\n",
    "matplotlib.rcParams['text.usetex'] = True\n",
    "import matplotlib.pyplot as plt\n",
    "%matplotlib inline\n",
    "import numpy as np\n",
    "import math\n",
    "import heapq as pq"
   ]
  },
  {
   "cell_type": "code",
   "execution_count": 3,
   "metadata": {},
   "outputs": [
    {
     "data": {
      "text/plain": [
       "46.051701859880914"
      ]
     },
     "execution_count": 3,
     "metadata": {},
     "output_type": "execute_result"
    }
   ],
   "source": [
    "def soda19bound():\n",
    "    \"\"\" directly using CCMS10SODA theorem 3.1 (assume constant is 1) \"\"\"\n",
    "    N = 10**8\n",
    "    coeff = 1\n",
    "    epsilon = 1\n",
    "    delta = 2**-40\n",
    "    return coeff/epsilon * (math.log2(N) ** 1.5) * math.sqrt(math.log2(1/delta))\n",
    "soda19bound()\n",
    "np.log(10.**20)"
   ]
  },
  {
   "cell_type": "code",
   "execution_count": 6,
   "metadata": {},
   "outputs": [
    {
     "name": "stdout",
     "output_type": "stream",
     "text": [
      "128.64371203268553\n",
      "216.86920221541283\n",
      "289.2891516276327\n",
      "354.9740256182412\n",
      "411.91695764646255\n",
      "462.7092783849562\n",
      "512.371051911858\n",
      "557.0373577771716\n",
      "599.6238672598266\n",
      "641.1060520107715\n",
      "680.5060781075846\n",
      "718.2933902563893\n",
      "753.933207590896\n",
      "788.8604838340881\n",
      "823.3424488540203\n",
      "856.6454332045863\n",
      "889.9172042977277\n",
      "921.4527860006333\n",
      "952.6615036804212\n",
      "983.609042417687\n"
     ]
    }
   ],
   "source": [
    "def sum_of_lap(b, n):\n",
    "    \"\"\" sum of n laplace random variables with 0 mean and scale b \"\"\"\n",
    "    return np.sum(np.random.laplace(0, b, n))\n",
    "\n",
    "def delta_tail(b, d, n):\n",
    "    \"\"\" with probablity 2^(-d), the total noise is > a (return value) \"\"\"\n",
    "    R = 10000\n",
    "    h = []\n",
    "    for i in range(2**d*R):\n",
    "        v = np.absolute(sum_of_lap(b, n))\n",
    "        if len(h) <= R:\n",
    "            pq.heappush(h, v)\n",
    "        else:\n",
    "            if v > h[0]:\n",
    "                pq.heapreplace(h, v)\n",
    "    print(h[0])\n",
    "    return h[0]\n",
    "\n",
    "N = 10.**9 # suppose the database have 1 billion tuple\n",
    "n = int(np.ceil(np.log(N)*2))\n",
    "x = np.arange(1, 21)\n",
    "y = [delta_tail(np.log(N), i, n) for i in x]"
   ]
  },
  {
   "cell_type": "code",
   "execution_count": 10,
   "metadata": {},
   "outputs": [
    {
     "data": {
      "text/plain": [
       "Text(0.5, 1.0, '$|Y| > a$ with probability at most $\\\\delta$')"
      ]
     },
     "execution_count": 10,
     "metadata": {},
     "output_type": "execute_result"
    },
    {
     "data": {
      "image/png": "[encoded data removed]",
      "text/plain": [
       "<Figure size 432x288 with 1 Axes>"
      ]
     },
     "metadata": {
      "needs_background": "light"
     },
     "output_type": "display_data"
    }
   ],
   "source": [
    "plt.scatter(x, y)\n",
    "z = [y[18] + (y[19]-y[18])*(i-19)  for i in x]\n",
    "plt.plot(x, z, 'm')\n",
    "plt.xlabel(r'$\\log(1/\\delta)$')\n",
    "plt.ylabel(r'$a$')\n",
    "plt.title(r'$|Y| > a$ with probability at most $\\delta$')"
   ]
  },
  {
   "cell_type": "code",
   "execution_count": 1,
   "metadata": {},
   "outputs": [
    {
     "ename": "NameError",
     "evalue": "name 'plt' is not defined",
     "output_type": "error",
     "traceback": [
      "\u001b[0;31m---------------------------------------------------------------------------\u001b[0m",
      "\u001b[0;31mNameError\u001b[0m                                 Traceback (most recent call last)",
      "\u001b[0;32m<ipython-input-1-d14f5bb185e7>\u001b[0m in \u001b[0;36m<module>\u001b[0;34m\u001b[0m\n\u001b[0;32m----> 1\u001b[0;31m \u001b[0mplt\u001b[0m\u001b[0;34m.\u001b[0m\u001b[0msavefig\u001b[0m\u001b[0;34m(\u001b[0m\u001b[0;34m'simulation.pdf'\u001b[0m\u001b[0;34m)\u001b[0m\u001b[0;34m\u001b[0m\u001b[0;34m\u001b[0m\u001b[0m\n\u001b[0m",
      "\u001b[0;31mNameError\u001b[0m: name 'plt' is not defined"
     ]
    }
   ],
   "source": [
    "plt.savefig('simulation.pdf')"
   ]
  },
  {
   "cell_type": "code",
   "execution_count": null,
   "metadata": {},
   "outputs": [],
   "source": []
  }
 ],
 "metadata": {
  "kernelspec": {
   "display_name": "Python 3",
   "language": "python",
   "name": "python3"
  },
  "language_info": {
   "codemirror_mode": {
    "name": "ipython",
    "version": 3
   },
   "file_extension": ".py",
   "mimetype": "text/x-python",
   "name": "python",
   "nbconvert_exporter": "python",
   "pygments_lexer": "ipython3",
   "version": "3.8.5"
  }
 },
 "nbformat": 4,
 "nbformat_minor": 4
}
